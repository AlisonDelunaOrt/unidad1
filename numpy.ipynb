{
  "nbformat": 4,
  "nbformat_minor": 0,
  "metadata": {
    "colab": {
      "provenance": [],
      "authorship_tag": "ABX9TyMmY+F8xWR0TrwkeSqeeuuT",
      "include_colab_link": true
    },
    "kernelspec": {
      "name": "python3",
      "display_name": "Python 3"
    },
    "language_info": {
      "name": "python"
    }
  },
  "cells": [
    {
      "cell_type": "markdown",
      "metadata": {
        "id": "view-in-github",
        "colab_type": "text"
      },
      "source": [
        "<a href=\"https://colab.research.google.com/github/AlisonDelunaOrt/unidad1/blob/main/numpy.ipynb\" target=\"_parent\"><img src=\"https://colab.research.google.com/assets/colab-badge.svg\" alt=\"Open In Colab\"/></a>"
      ]
    },
    {
      "cell_type": "markdown",
      "source": [
        "NumPy es una libreria de Python.\n",
        "NumPy se utiliza para trabajar con matrices o arreglos.\n",
        "NumPy es la abreviatura de \"Python numerico\"\n",
        "Tambien tiene funciones para trabajar en el dominio del algebra lineal,la transformada y las matrices.\n",
        "En Python tenemos listas que sirven como matrices,pero son lentas en procesar.\n",
        "Numpy tiene en objetivo proporcionar un objeto de matriz que sea 50 veces mas rapido que las listas tradicionaloes."
      ],
      "metadata": {
        "id": "A6AzefIli1DJ"
      }
    },
    {
      "cell_type": "code",
      "source": [
        "#primero tenemos que importar la libreria\n",
        "import numpy\n",
        "\n",
        "arreglo = numpy.array([1,2,3,4,5])\n",
        "print(arreglo)\n"
      ],
      "metadata": {
        "colab": {
          "base_uri": "https://localhost:8080/"
        },
        "id": "kbRf3_lvlHDD",
        "outputId": "f7c88384-54bd-470d-8bc0-a3f462e7cbfa"
      },
      "execution_count": null,
      "outputs": [
        {
          "output_type": "stream",
          "name": "stdout",
          "text": [
            "[1 2 3 4 5]\n"
          ]
        }
      ]
    },
    {
      "cell_type": "markdown",
      "source": [
        "NumPy como np.\n",
        "NumPy generalmente se importa bajo el alias np.En Python alias son un nombre alternativo para referirse a la misma cosa."
      ],
      "metadata": {
        "id": "GBkehGL2mNHL"
      }
    },
    {
      "cell_type": "code",
      "source": [
        "import numpy as np\n",
        "\n",
        "arreglo = np.array([6,7,8,9,10])\n",
        "print(arreglo)\n"
      ],
      "metadata": {
        "colab": {
          "base_uri": "https://localhost:8080/"
        },
        "id": "HO5wH0XomkKL",
        "outputId": "d368ec1e-acb0-4760-c0f4-678608b27729"
      },
      "execution_count": null,
      "outputs": [
        {
          "output_type": "stream",
          "name": "stdout",
          "text": [
            "[ 6  7  8  9 10]\n"
          ]
        }
      ]
    },
    {
      "cell_type": "markdown",
      "source": [
        "Comprobando la version de NumPy\n",
        "la cadena de la version se almacena en el atributo__version__"
      ],
      "metadata": {
        "id": "Pq5ajcVAna_z"
      }
    },
    {
      "cell_type": "code",
      "source": [
        "import numpy as np\n",
        "\n",
        "print(np.__version__)\n"
      ],
      "metadata": {
        "colab": {
          "base_uri": "https://localhost:8080/"
        },
        "id": "7SXM6vYun0pz",
        "outputId": "738b788c-ff71-43f5-90d6-ba9f986b16d9"
      },
      "execution_count": null,
      "outputs": [
        {
          "output_type": "stream",
          "name": "stdout",
          "text": [
            "2.0.2\n"
          ]
        }
      ]
    },
    {
      "cell_type": "markdown",
      "source": [
        "NumPy creando matrices.\n",
        "Crear un objetondarray de NumPy.\n",
        "NumPy se utiliza para trabajar com matrices. El obejto de matriz se llama ndarray.\n",
        "Podemos crear un NumPy ndarray utilizando la funcion array()"
      ],
      "metadata": {
        "id": "pZQGOntAoOy7"
      }
    },
    {
      "cell_type": "code",
      "source": [
        "import numpy as np\n",
        "\n",
        "arreglo = np.array([\"Raul\",\"Ana\",\"Yazmin\"])\n",
        "print(arreglo)\n",
        "print(type(arreglo))\n"
      ],
      "metadata": {
        "colab": {
          "base_uri": "https://localhost:8080/"
        },
        "id": "hwp0DraxpIqs",
        "outputId": "9ca87191-99fd-4b47-edb1-57d483e08e16"
      },
      "execution_count": null,
      "outputs": [
        {
          "output_type": "stream",
          "name": "stdout",
          "text": [
            "['Raul' 'Ana' 'Yazmin']\n",
            "<class 'numpy.ndarray'>\n"
          ]
        }
      ]
    },
    {
      "cell_type": "markdown",
      "source": [
        "Dimensiones en matrices.\n",
        "Una dimension en matrices es un nivel de profundidad de matriz(matrices anidadas).\n",
        "Una matriz anidada contiene matrices como elementos.\n",
        "Matrices 0-D. Son elementos de una matriz. Cada valr de una matriz es una matriz 0-D. Ejemplo: Crea una matriz 0-D con un valors de 42"
      ],
      "metadata": {
        "id": "yGtoDehvqFsT"
      }
    },
    {
      "cell_type": "code",
      "source": [
        "import numpy as np\n",
        "\n",
        "arreglo = np.array(42)\n",
        "\n",
        "print(arreglo)"
      ],
      "metadata": {
        "id": "m2f1ohVBrDpk",
        "colab": {
          "base_uri": "https://localhost:8080/"
        },
        "outputId": "f1861e94-7d09-47ad-8dcc-51368c356e7d"
      },
      "execution_count": 5,
      "outputs": [
        {
          "output_type": "stream",
          "name": "stdout",
          "text": [
            "42\n"
          ]
        }
      ]
    },
    {
      "cell_type": "markdown",
      "source": [
        "Matrices 1-D\n",
        "Una matriz que tiene matrices 0-D como elementos se demonima matriz unidimensional o 1-D.\n",
        "Estas son las matrices mas comunes y basicas Ejemplo: Crea una matriz de una dimensio que tenga los valores 1,2,3,4,5"
      ],
      "metadata": {
        "id": "nrSIySZzsUqt"
      }
    },
    {
      "cell_type": "code",
      "source": [
        "import numpy as np\n",
        "\n",
        "arreglo = np.array([1,2,3,4,5])\n",
        "print(arreglo)"
      ],
      "metadata": {
        "colab": {
          "base_uri": "https://localhost:8080/"
        },
        "id": "VrU8WNa7tMts",
        "outputId": "06b6ecc8-f847-4200-88bb-bea938579a97"
      },
      "execution_count": 7,
      "outputs": [
        {
          "output_type": "stream",
          "name": "stdout",
          "text": [
            "[1 2 3 4 5]\n",
            "[1 2 3 4 5]\n"
          ]
        }
      ]
    },
    {
      "cell_type": "markdown",
      "source": [
        "Matrices 2D.\n",
        "Una matriz que tiene matrices 1-D como elementos se denominan matriz 2-D.\n",
        "A menudo se utiliza para representar matrices de segundo orden. NumPy tiene un submodulo completo dedicado a operaciones con matrices llamado numpy.mat.\n",
        "Ejemplo:Crea una matriz 2D que contenga dos matrices con los valores 123 y 456."
      ],
      "metadata": {
        "id": "OW40NeHhtz0c"
      }
    },
    {
      "cell_type": "code",
      "source": [
        "import numpy as np\n",
        "\n",
        "arreglo = np.array([[1,2,3],[4,5,6]])\n",
        "\n",
        "print(arreglo)"
      ],
      "metadata": {
        "colab": {
          "base_uri": "https://localhost:8080/"
        },
        "id": "bVgzfb2supQd",
        "outputId": "b89b5e79-ee07-4365-93c0-8bcae44c12a0"
      },
      "execution_count": 8,
      "outputs": [
        {
          "output_type": "stream",
          "name": "stdout",
          "text": [
            "[[1 2 3]\n",
            " [4 5 6]]\n"
          ]
        }
      ]
    },
    {
      "cell_type": "markdown",
      "source": [
        "Matrices 3D.\n",
        "Una matriz que tiene matrices 2D se demonima matriz 3D.\n",
        "Estas matrices se utilizan para representar una matriz de tercer orden.\n",
        "Ejemplo: Crea una matriz 3D con dos matrices bidimensionales,ambas conteniendo dos matrices con los valores 1,2,3 y 4,5,6."
      ],
      "metadata": {
        "id": "j7DAazM8vX1t"
      }
    },
    {
      "cell_type": "code",
      "source": [
        "import numpy as np\n",
        "\n",
        "arreglo = np.array([[[1,2,3],[4,5,6]], [[1,2,3],[4,5,6]]])\n",
        "\n",
        "print(arreglo)"
      ],
      "metadata": {
        "colab": {
          "base_uri": "https://localhost:8080/"
        },
        "id": "sTfybPIJwWmd",
        "outputId": "8eaea6d9-ed1a-484b-cec8-8ac77806b622"
      },
      "execution_count": 9,
      "outputs": [
        {
          "output_type": "stream",
          "name": "stdout",
          "text": [
            "[[[1 2 3]\n",
            "  [4 5 6]]\n",
            "\n",
            " [[1 2 3]\n",
            "  [4 5 6]]]\n"
          ]
        }
      ]
    }
  ]
}