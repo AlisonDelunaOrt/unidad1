{
  "nbformat": 4,
  "nbformat_minor": 0,
  "metadata": {
    "colab": {
      "provenance": [],
      "authorship_tag": "ABX9TyO8nAqfQ9SZarq16jbtA9T6",
      "include_colab_link": true
    },
    "kernelspec": {
      "name": "python3",
      "display_name": "Python 3"
    },
    "language_info": {
      "name": "python"
    }
  },
  "cells": [
    {
      "cell_type": "markdown",
      "metadata": {
        "id": "view-in-github",
        "colab_type": "text"
      },
      "source": [
        "<a href=\"https://colab.research.google.com/github/AlisonDelunaOrt/unidad1/blob/main/Untitled5.ipynb\" target=\"_parent\"><img src=\"https://colab.research.google.com/assets/colab-badge.svg\" alt=\"Open In Colab\"/></a>"
      ]
    },
    {
      "cell_type": "code",
      "source": [
        "import numpy as np\n",
        "from scipy import stats\n",
        "\n",
        "valores= np.array([25,45,56,12,67,34,55,21])\n",
        "media= np.mean(valores)\n",
        "mediana= np.median(valores)\n",
        "moda= stats.mode(valores)\n",
        "print(\"la media es:\",media)\n",
        "print(\"la mediana es :\",mediana)\n",
        "print(\"la moda es:\",moda.mode)"
      ],
      "metadata": {
        "colab": {
          "base_uri": "https://localhost:8080/"
        },
        "id": "IS2Wotrx2e8C",
        "outputId": "ebba7465-8d3c-495b-bc54-fde4ee54a6ff"
      },
      "execution_count": 13,
      "outputs": [
        {
          "output_type": "stream",
          "name": "stdout",
          "text": [
            "la media es: 39.375\n",
            "la mediana es : 39.5\n",
            "la moda es: 12\n"
          ]
        }
      ]
    },
    {
      "cell_type": "code",
      "source": [
        "import numpy as np\n",
        "from scipy import stats\n",
        "\n",
        "valores= np.array([10,20,30,40,20,50,20])\n",
        "media= np.mean(valores)\n",
        "mediana= np.median(valores)\n",
        "moda= stats.mode(valores)\n",
        "print(\"la media es:\",media)\n",
        "print(\"la mediana es:\",mediana)\n",
        "print(\"la moda es:\",moda.mode)"
      ],
      "metadata": {
        "colab": {
          "base_uri": "https://localhost:8080/"
        },
        "id": "iW7lNuHO2JT6",
        "outputId": "aad73801-73ac-4b53-c0f3-d3159525fb11"
      },
      "execution_count": 19,
      "outputs": [
        {
          "output_type": "stream",
          "name": "stdout",
          "text": [
            "la media es: 27.142857142857142\n",
            "la mediana es: 20.0\n",
            "la moda es: 20\n"
          ]
        }
      ]
    },
    {
      "cell_type": "code",
      "source": [
        "import numpy as np\n",
        "from scipy import stats\n",
        "valores= np.array([10,20,30,40,50])\n",
        "media= np.median(valores)\n",
        "mediana= np.mean(valores)\n",
        "moda= stats.mode(valores)\n",
        "print(\"la media es:\",media)\n",
        "print(\"la mediana es:\",mediana)\n",
        "print(\"la moda es\",moda.mode)"
      ],
      "metadata": {
        "colab": {
          "base_uri": "https://localhost:8080/"
        },
        "id": "iUnU_6ap21Dr",
        "outputId": "0f6426cf-09a0-4322-dfea-8ad0979feee9"
      },
      "execution_count": 20,
      "outputs": [
        {
          "output_type": "stream",
          "name": "stdout",
          "text": [
            "la media es: 30.0\n",
            "la mediana es: 30.0\n",
            "la moda es 10\n"
          ]
        }
      ]
    }
  ]
}