{
  "nbformat": 4,
  "nbformat_minor": 0,
  "metadata": {
    "colab": {
      "provenance": [],
      "authorship_tag": "ABX9TyNM1izK3+fJ0Jxo7gnEgbQO",
      "include_colab_link": true
    },
    "kernelspec": {
      "name": "python3",
      "display_name": "Python 3"
    },
    "language_info": {
      "name": "python"
    }
  },
  "cells": [
    {
      "cell_type": "markdown",
      "metadata": {
        "id": "view-in-github",
        "colab_type": "text"
      },
      "source": [
        "<a href=\"https://colab.research.google.com/github/AlisonDelunaOrt/unidad1/blob/main/Untitled5.ipynb\" target=\"_parent\"><img src=\"https://colab.research.google.com/assets/colab-badge.svg\" alt=\"Open In Colab\"/></a>"
      ]
    },
    {
      "cell_type": "code",
      "source": [
        "import numpy as np\n",
        "from scipy import stats\n",
        "\n",
        "valores= np.array([25,45,56,12,67,34,55,21])\n",
        "media= np.mean(valores)\n",
        "mediana= np.median(valores)\n",
        "moda= stats.mode(valores)\n",
        "print(\"la media es:\",media)\n",
        "print(\"la mediana es :\",mediana)\n",
        "print(\"la moda es:\",moda.mode)"
      ],
      "metadata": {
        "colab": {
          "base_uri": "https://localhost:8080/"
        },
        "id": "IS2Wotrx2e8C",
        "outputId": "ebba7465-8d3c-495b-bc54-fde4ee54a6ff"
      },
      "execution_count": 13,
      "outputs": [
        {
          "output_type": "stream",
          "name": "stdout",
          "text": [
            "la media es: 39.375\n",
            "la mediana es : 39.5\n",
            "la moda es: 12\n"
          ]
        }
      ]
    },
    {
      "cell_type": "code",
      "source": [
        "import numpy as np\n",
        "from scipy import stats\n",
        "\n",
        "valores= np.array([10,20,30,40,20,50,20])\n",
        "media= np.mean(valores)\n",
        "mediana= np.mean(valores)\n",
        "moda= stats.mode(valores)\n",
        "print(\"la media es:\",media)\n",
        "print(\"la mediana es:\",mediana)\n",
        "print(\"la moda es:\",moda.mode)"
      ],
      "metadata": {
        "colab": {
          "base_uri": "https://localhost:8080/"
        },
        "id": "iW7lNuHO2JT6",
        "outputId": "85076e94-74dc-4abb-8068-3bea2f6e7bd3"
      },
      "execution_count": 14,
      "outputs": [
        {
          "output_type": "stream",
          "name": "stdout",
          "text": [
            "la media es: 27.142857142857142\n",
            "la mediana es: 27.142857142857142\n",
            "la moda es: 20\n"
          ]
        }
      ]
    },
    {
      "cell_type": "code",
      "source": [
        "import numpy as np\n",
        "from scipy import stats\n",
        "valores= np.array([10,20,30,40,50])\n",
        "media= np.mean(valores)\n",
        "mediana= np.mean(valores)\n",
        "moda= stats.mode(valores)\n",
        "print(\"la media es:\",media)\n",
        "print(\"la mediana es:\",mediana)\n",
        "print(\"la moda es\",moda.mode)"
      ],
      "metadata": {
        "colab": {
          "base_uri": "https://localhost:8080/"
        },
        "id": "iUnU_6ap21Dr",
        "outputId": "1f64257d-616c-410a-8801-9e7e0cca0049"
      },
      "execution_count": 15,
      "outputs": [
        {
          "output_type": "stream",
          "name": "stdout",
          "text": [
            "la media es: 30.0\n",
            "la mediana es: 30.0\n",
            "la moda es 10\n"
          ]
        }
      ]
    }
  ]
}