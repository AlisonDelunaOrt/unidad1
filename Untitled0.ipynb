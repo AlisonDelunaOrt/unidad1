{
  "nbformat": 4,
  "nbformat_minor": 0,
  "metadata": {
    "colab": {
      "provenance": [],
      "authorship_tag": "ABX9TyN+GCQf4NKw+MA4rpDAXhvz",
      "include_colab_link": true
    },
    "kernelspec": {
      "name": "python3",
      "display_name": "Python 3"
    },
    "language_info": {
      "name": "python"
    }
  },
  "cells": [
    {
      "cell_type": "markdown",
      "metadata": {
        "id": "view-in-github",
        "colab_type": "text"
      },
      "source": [
        "<a href=\"https://colab.research.google.com/github/AlisonDelunaOrt/unidad1/blob/main/Untitled0.ipynb\" target=\"_parent\"><img src=\"https://colab.research.google.com/assets/colab-badge.svg\" alt=\"Open In Colab\"/></a>"
      ]
    },
    {
      "cell_type": "code",
      "execution_count": null,
      "metadata": {
        "id": "S_NmOXLdRLGA"
      },
      "outputs": [],
      "source": []
    },
    {
      "cell_type": "markdown",
      "source": [
        "¿QUE ES PANDAS?\n",
        "Pandas es una libreria o biblioteca de python que se utiliza para trabajar con conjunto de datos.Tiene funciones para analizar,limpiar,explorar y manipular datos.\n",
        "-------------\n",
        "El nombre \"Pandas\" hace referencia a Panel data y python data.\n",
        "Fue creado en el 2008.\n",
        "---------\n",
        "¿Por que utilizar pandas?\n",
        "Pandas nos permite analizar big data y sacar conclusiones basadas en teorias estadisticas.Los pandas pueden limpiar conjuntos de datos desordenados y hacerlos legibles y relevantes.Los datos relevantes son muy importantes en la ciencia de datos.\n",
        "---------------------------\n",
        "\n",
        "¿Que podemos hacer en pandas?\n",
        "1.Saber si existe correlacion entre dos o mas columnas.\n",
        "2.Cual es el valor promedio.\n",
        "3.Valor maximo.\n",
        "4.Valor minimo.\n",
        "-----------------------------------\n",
        "Pandas tambien puede eliminar filas que no son relevantes o que contienen errores,como valores vacios.Esto se le llama limpieza de datos.\n",
        "--------------------------------\n",
        "INSTALACION DE PANDAS.\n",
        "-----------------------\n",
        "Si tienes python y pip instalado en un sistema,instalalo usando el siguiente comandon pip install padas,si este comando falla utiliza una distribucion de python que ya tenga pandas instalado.\n",
        "----------------------\n",
        "IMPORT PANDAS.\n",
        "---------------\n",
        "Una vez instalado pandas importalo a tus aplicaciones agregando la palabra clave.\n",
        "IMPORT PANDAS.\n",
        "Ahora pandas esta importado y listo para usar.\n",
        "--------------\n",
        "Pandas como pd.\n",
        "Crea un alias con la palabra as al importar pandas.\n",
        "----------------------\n",
        "EJEMPLO:\n"
      ],
      "metadata": {
        "id": "a-H6DnK6RfY_"
      }
    },
    {
      "cell_type": "code",
      "source": [
        "import panda as pd"
      ],
      "metadata": {
        "id": "MXyyWpXuWeUe"
      },
      "execution_count": null,
      "outputs": []
    },
    {
      "cell_type": "markdown",
      "source": [
        "Ahora el paquete pandas puede denominarse pd en lugar de pandas\n",
        "----------------\n",
        "COMPROBANDO LA VERSION PANDAS.\n",
        "------------\n",
        "La cadena de la version de almacena en el atributo __version__\n",
        "--------------\n",
        "EJEMPLO"
      ],
      "metadata": {
        "id": "9o3U-9OOWWFn"
      }
    },
    {
      "cell_type": "code",
      "source": [
        "import pandas as pd\n",
        "print(pd.__version__)"
      ],
      "metadata": {
        "colab": {
          "base_uri": "https://localhost:8080/"
        },
        "id": "UVb5glkEW8Gv",
        "outputId": "6120a05e-9512-4eaf-f56f-815ebb00374a"
      },
      "execution_count": 2,
      "outputs": [
        {
          "output_type": "stream",
          "name": "stdout",
          "text": [
            "2.2.2\n"
          ]
        }
      ]
    },
    {
      "cell_type": "markdown",
      "source": [
        "EJERCICIO:\n",
        "¿Cual de las siguientes 3 opciones es la biblioteca oficial?\n",
        "1.Import p\n",
        "2.Import pandas\n",
        "3.Import pan\n",
        "---------------\n",
        "Pandas serie\n",
        "--------------\n",
        "¿Que es una serie? Una serie pandas es como una columna en una tabla.\n",
        "Es una matriz unidimensional que contiene datos de cualquier tipo.\n",
        "---------------\n",
        "EJEMPLO"
      ],
      "metadata": {
        "id": "PHfQzcpHXGsf"
      }
    },
    {
      "cell_type": "code",
      "source": [
        "import pandas as pd\n",
        "a = [1, 7, 2]\n",
        "myvar = pd.Series(a)\n",
        "print(myvar)"
      ],
      "metadata": {
        "colab": {
          "base_uri": "https://localhost:8080/"
        },
        "id": "Qi7UbBwIY0Jv",
        "outputId": "9558928b-6c73-457c-a570-c79f0249e18b"
      },
      "execution_count": 10,
      "outputs": [
        {
          "output_type": "stream",
          "name": "stdout",
          "text": [
            "0    1\n",
            "1    7\n",
            "2    2\n",
            "dtype: int64\n"
          ]
        }
      ]
    },
    {
      "cell_type": "markdown",
      "source": [
        "  ETIQUETAS.\n",
        "  -------------\n",
        "  Sino especifica nada mas,los valores se etiquetan con su numero de indice,el primer valor tiene el indice 0,el segundo valo tiene el indice 1,etc.\n",
        "  ----------\n",
        "  Esta etiqueta se puede utilizar para acceder a un valor especifico.\n",
        "  --------\n",
        "  EJEMPLO.\n",
        "  Crea tus propias etiquetas."
      ],
      "metadata": {
        "id": "UU3HswwqY3Wv"
      }
    },
    {
      "cell_type": "code",
      "source": [
        "import pandas as pd\n",
        "a = [1, 7, 2]\n",
        "myvar = pd.Series(a, index = [\"x\", \"y\", \"z\"])\n",
        "print(myvar)"
      ],
      "metadata": {
        "colab": {
          "base_uri": "https://localhost:8080/"
        },
        "id": "-3R1fe00ZeZ3",
        "outputId": "b4731b9d-4ff7-4bfc-9101-8d1b0e7fd561"
      },
      "execution_count": 11,
      "outputs": [
        {
          "output_type": "stream",
          "name": "stdout",
          "text": [
            "x    1\n",
            "y    7\n",
            "z    2\n",
            "dtype: int64\n"
          ]
        }
      ]
    },
    {
      "cell_type": "markdown",
      "source": [
        "Cuando hayamos creado etiquetas,podemos acceder a un elemento haciendo referencia a su etiqueta\n",
        "-----------------\n",
        "EJEMPLO: Devuelve el valor de y"
      ],
      "metadata": {
        "id": "0vQxOtOnZke3"
      }
    },
    {
      "cell_type": "code",
      "source": [
        "import pandas as pd\n",
        "a = [1, 7, 2]\n",
        "myvar = pd.Series(a, index = [\"x\", \"y\", \"z\"])\n",
        "print(myvar[\"y\"])"
      ],
      "metadata": {
        "colab": {
          "base_uri": "https://localhost:8080/"
        },
        "id": "SWCJwez2Z0EH",
        "outputId": "0b40cfe4-6399-45c4-d4ae-23be13b5baf6"
      },
      "execution_count": 12,
      "outputs": [
        {
          "output_type": "stream",
          "name": "stdout",
          "text": [
            "7\n"
          ]
        }
      ]
    },
    {
      "cell_type": "markdown",
      "source": [
        "OBJETOS CLAVE/VALOR COMO SERIE.\n",
        "--------------\n",
        "Tambien podemos utilizar un objeto clave/valor como un diccionario,al crear una serie\n",
        "----------------\n",
        "EJEMPLO:Crea una serie pandas basicas a partir de un diccionario."
      ],
      "metadata": {
        "id": "0_aY-3P8Z3iP"
      }
    },
    {
      "cell_type": "code",
      "source": [
        "import pandas as pd\n",
        "calories = {\"day1\": 420, \"day2\": 380, \"day3\": 390}\n",
        "myvar = pd.Series(calories)\n",
        "print(myvar)"
      ],
      "metadata": {
        "colab": {
          "base_uri": "https://localhost:8080/"
        },
        "id": "CnxUNdTbag6H",
        "outputId": "7f7d575a-b1c9-4253-9e3b-dcf060b132f3"
      },
      "execution_count": 14,
      "outputs": [
        {
          "output_type": "stream",
          "name": "stdout",
          "text": [
            "day1    420\n",
            "day2    380\n",
            "day3    390\n",
            "dtype: int64\n"
          ]
        }
      ]
    },
    {
      "cell_type": "markdown",
      "source": [
        "Nota:Las claves del diccionario se convierten en las etiquetas.\n",
        "Para selccionar elementos del diccionario utilicen el argumento index y especifique el elemento que desea intruir en la serie.\n",
        "------------------\n",
        "EJEMPLO:Crea una serie utilizando unicamente datos del dia 1 y dia 2."
      ],
      "metadata": {
        "id": "KZ61WpqDaT9H"
      }
    },
    {
      "cell_type": "code",
      "source": [
        "import pandas as pd\n",
        "calories = {\"day1\": 420, \"day2\": 380, \"day3\": 390}\n",
        "myvar = pd.Series(calories, index = [\"day1\", \"day2\"])\n",
        "print(myvar)\n"
      ],
      "metadata": {
        "colab": {
          "base_uri": "https://localhost:8080/"
        },
        "id": "YhX8gZVYbOf4",
        "outputId": "eed284fa-7775-49cf-f422-1dbcd7fa594c"
      },
      "execution_count": 16,
      "outputs": [
        {
          "output_type": "stream",
          "name": "stdout",
          "text": [
            "day1    420\n",
            "day2    380\n",
            "dtype: int64\n"
          ]
        }
      ]
    },
    {
      "cell_type": "markdown",
      "source": [
        "MARCOS DE DATOS.\n",
        "--------------\n",
        "Los conjuntos de datos en pandas suelen ser tablas multidimensionales,llamadas Data Frames.La serie es como la columna,una Data Frame es toda la tabla.\n",
        "---------------------------\n",
        "EJEMPLO:Crea un Data Frame a partir de dos series"
      ],
      "metadata": {
        "id": "dP8yQNIfbR5f"
      }
    },
    {
      "cell_type": "code",
      "source": [
        "import pandas as pd\n",
        "data = {\n",
        "  \"calories\": [420, 380, 390],\n",
        "  \"duration\": [50, 40, 45]\n",
        "}\n",
        "myvar=pd.DataFrame(data)\n",
        "print(myvar)"
      ],
      "metadata": {
        "colab": {
          "base_uri": "https://localhost:8080/"
        },
        "id": "xE9Lt0m7cPmQ",
        "outputId": "04691ec8-e95c-462e-f129-1117293a7018"
      },
      "execution_count": 27,
      "outputs": [
        {
          "output_type": "stream",
          "name": "stdout",
          "text": [
            "   calories  duration\n",
            "0       420        50\n",
            "1       380        40\n",
            "2       390        45\n"
          ]
        }
      ]
    },
    {
      "cell_type": "markdown",
      "source": [
        "¿Una serie es como un renglon en una tabla?Falso,es como una columna"
      ],
      "metadata": {
        "id": "A8nwHtT9cSIY"
      }
    }
  ]
}