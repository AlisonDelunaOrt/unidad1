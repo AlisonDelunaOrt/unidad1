{
  "nbformat": 4,
  "nbformat_minor": 0,
  "metadata": {
    "colab": {
      "provenance": [],
      "authorship_tag": "ABX9TyPpnTp83gC3aotf58N55yt2",
      "include_colab_link": true
    },
    "kernelspec": {
      "name": "python3",
      "display_name": "Python 3"
    },
    "language_info": {
      "name": "python"
    }
  },
  "cells": [
    {
      "cell_type": "markdown",
      "metadata": {
        "id": "view-in-github",
        "colab_type": "text"
      },
      "source": [
        "<a href=\"https://colab.research.google.com/github/AlisonDelunaOrt/unidad1/blob/main/practica2.ipynb\" target=\"_parent\"><img src=\"https://colab.research.google.com/assets/colab-badge.svg\" alt=\"Open In Colab\"/></a>"
      ]
    },
    {
      "cell_type": "code",
      "execution_count": null,
      "metadata": {
        "id": "H4RxYKwoqXfA"
      },
      "outputs": [],
      "source": []
    },
    {
      "cell_type": "markdown",
      "source": [
        "Practica2 - NumPy\n",
        "Dalia Alison De luna Ortiz 5F\n",
        "Fecha 09 septiembre del 2025\n",
        "-----------------------------\n",
        "Como verificar el numero de dimension.\n",
        "NumPy proporciona el atributo ndmi que devuelve\n",
        "un numero entero que se nos dice cuantas dimensiones\n",
        "tiene una matriz.\n",
        "---------------------------------------------------\n",
        "Ejemplo: Comprueba de cuantas dimensiones son las siguientes matrices .\n",
        "--------------------------------------------------------------------------\n",
        "\n"
      ],
      "metadata": {
        "id": "CDw0U3aerVCZ"
      }
    },
    {
      "cell_type": "code",
      "source": [
        "import numpy as np\n",
        "\n",
        "arregloA = np.array(42)\n",
        "arregloB = np.array([1,2,3,4,5])\n",
        "arregloC = np.array([[1,2,3],[4,5,6]])\n",
        "arregloD = np.array([[[1,2,3],[4,5,6]], [[1,2,3], [4,5,6]]])\n",
        "\n",
        "print(arregloA.ndim)\n",
        "print(arregloB.ndim)\n",
        "print(arregloC.ndim)\n",
        "print(arregloD.ndim)"
      ],
      "metadata": {
        "colab": {
          "base_uri": "https://localhost:8080/"
        },
        "id": "OsoOYRuPsfIJ",
        "outputId": "e347db0c-715a-4309-d6e8-6887ae16adde"
      },
      "execution_count": 2,
      "outputs": [
        {
          "output_type": "stream",
          "name": "stdout",
          "text": [
            "0\n",
            "1\n",
            "2\n",
            "3\n"
          ]
        }
      ]
    },
    {
      "cell_type": "markdown",
      "source": [
        "Mtrices de dimensiones superiores\n",
        "Una matriz debe tener cualquier numero de dimensiones.\n",
        "Cuando se crea la matriz,puede definir el numero de dimensiones utilizando el argumento ndmin.\n",
        "Ejemplo: Crea una matriz con 5 dimensiones y verifica que tenga las 5 dimensiones.\n",
        "------------------------------------------------------------------------\n"
      ],
      "metadata": {
        "id": "f9uO_OSqu1TR"
      }
    },
    {
      "cell_type": "code",
      "source": [
        "import numpy as np\n",
        "\n",
        "arreglo = np.array([1,2,3,4,5], ndmin= 5)\n",
        "\n",
        "print(arreglo)\n",
        "print(\"Numero de dimensiones: \",arreglo.ndim)"
      ],
      "metadata": {
        "colab": {
          "base_uri": "https://localhost:8080/"
        },
        "id": "QG8O6I5IwFgh",
        "outputId": "852f2fac-9e53-4392-dca6-dd4f228479d8"
      },
      "execution_count": 11,
      "outputs": [
        {
          "output_type": "stream",
          "name": "stdout",
          "text": [
            "[[[[[1 2 3 4 5]]]]]\n",
            "Numero de dimensiones:  5\n"
          ]
        }
      ]
    },
    {
      "cell_type": "markdown",
      "source": [
        "Ejercicio:\n",
        "Considerando la siguiente matriz\n",
        "\n",
        "arreglo = np.array([[1,2,3], [4,5,6]])\n",
        "\n",
        "¿Cuantas dimensiones tiene?\n",
        "Respuesta = 2"
      ],
      "metadata": {
        "id": "HoBSERc3ycaK"
      }
    },
    {
      "cell_type": "markdown",
      "source": [
        "NumPy Indexion de matrices\n",
        "Acceder a elementos de una matriz\n",
        "La indexacion de matrices es lo mismo que acceder a un elemento de una matriz.\n",
        "Puede acceder a un elemento de la matriz haciendo referencia a su numero de indice.Los indices en las matrices Numpy comienzan en 0, lo que significa que el primer elemento tiene el indice 0 y el segundo tiene el indice 1,etc.\n",
        "Ejemplo: Obtenga el primer elemento de la siguinte matriz.\n",
        "----------------------------------------------------------\n"
      ],
      "metadata": {
        "id": "Ri4tLP4zzQ6S"
      }
    },
    {
      "cell_type": "code",
      "source": [
        "import numpy as np\n",
        "\n",
        "arreglo = np.array([1,2,3,4])\n",
        "\n",
        "print(arreglo[0])"
      ],
      "metadata": {
        "colab": {
          "base_uri": "https://localhost:8080/"
        },
        "id": "MBhEK_xc0_ri",
        "outputId": "ff5e01e4-4327-4a1c-9c5d-961b3a541d0e"
      },
      "execution_count": 12,
      "outputs": [
        {
          "output_type": "stream",
          "name": "stdout",
          "text": [
            "1\n"
          ]
        }
      ]
    }
  ]
}
