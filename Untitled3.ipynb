{
  "nbformat": 4,
  "nbformat_minor": 0,
  "metadata": {
    "colab": {
      "provenance": [],
      "authorship_tag": "ABX9TyPY8oD2FrT5ZPNpSiHGyoUR",
      "include_colab_link": true
    },
    "kernelspec": {
      "name": "python3",
      "display_name": "Python 3"
    },
    "language_info": {
      "name": "python"
    }
  },
  "cells": [
    {
      "cell_type": "markdown",
      "metadata": {
        "id": "view-in-github",
        "colab_type": "text"
      },
      "source": [
        "<a href=\"https://colab.research.google.com/github/AlisonDelunaOrt/unidad1/blob/main/Untitled3.ipynb\" target=\"_parent\"><img src=\"https://colab.research.google.com/assets/colab-badge.svg\" alt=\"Open In Colab\"/></a>"
      ]
    },
    {
      "cell_type": "code",
      "execution_count": null,
      "metadata": {
        "id": "uHy4J48ROo3N"
      },
      "outputs": [],
      "source": []
    },
    {
      "cell_type": "markdown",
      "source": [
        "NumPy indexacion de matrices.\n",
        "Acceder a elementos de una matriz.\n",
        "La indexacion de matrices es lo mismo que acceder a un elemento de una matriz haciendo referencia a su numero de indice.\n",
        "Los indices en las matrices NumPy comienza en cero,lo que significaque el primer elemento tiene indice cero,el segundo tiene el indice uno y el tercero tiene indice dos,etc...\n",
        "Ejemplo:Obtenga el primer elemento de la sig matriz."
      ],
      "metadata": {
        "id": "47WZe7DZPVFt"
      }
    },
    {
      "cell_type": "code",
      "source": [
        "import numpy as np\n",
        "arreglo=np.array([1,2,3,4,5])\n",
        "print (arreglo[0])"
      ],
      "metadata": {
        "colab": {
          "base_uri": "https://localhost:8080/"
        },
        "id": "-JTaO8QdQgC1",
        "outputId": "8a17c982-163b-49c4-f63b-086220265218"
      },
      "execution_count": 1,
      "outputs": [
        {
          "output_type": "stream",
          "name": "stdout",
          "text": [
            "1\n"
          ]
        }
      ]
    },
    {
      "cell_type": "markdown",
      "source": [
        "De la sig lista....\n",
        "6,7,8,9,10,obtenga el tercer y cuarto elemento."
      ],
      "metadata": {
        "id": "RaFAxIMyQ1Zd"
      }
    },
    {
      "cell_type": "code",
      "source": [
        "import numpy as np\n",
        "arreglo=np.array([6,7,8,9,10])\n",
        "print(arreglo[2])\n",
        "print(arreglo[3])"
      ],
      "metadata": {
        "colab": {
          "base_uri": "https://localhost:8080/"
        },
        "id": "6FMr6FzIRB19",
        "outputId": "1d5a03f1-6ec7-4dc0-a58b-6be2ddfe47fd"
      },
      "execution_count": 2,
      "outputs": [
        {
          "output_type": "stream",
          "name": "stdout",
          "text": [
            "8\n",
            "9\n"
          ]
        }
      ]
    },
    {
      "cell_type": "markdown",
      "source": [
        "Accede a elementos de 2D,para acceder a elementos de matrices 2D podemos utilizar numeros enteros separados por comas que representa al numero de dimensiones y al indice del elemento.\n",
        "---------------------------------------\n",
        "Piense en matrices 2D como una tabla con filas y columnas donde la Dimension representa la fila y el indice representa la columna.\n",
        "----------------------------\n",
        "Realiza una matriz 2D con la siguientes listas\n",
        "LISTA 1:1,2,3,4,5.\n",
        "LISTA 2:6,7,8,9,10\n",
        "-------------------------------------\n",
        "De la matriz 2D accede el elemento de la primera fila segunda columna."
      ],
      "metadata": {
        "id": "W7ywHaRYRP8N"
      }
    },
    {
      "cell_type": "markdown",
      "source": [],
      "metadata": {
        "id": "qSzwCCNpSOGd"
      }
    },
    {
      "cell_type": "code",
      "source": [
        "import numpy as np\n",
        "arreglo=np.array([[1,2,3,4,5,],[6,7,8,9,10]])\n",
        "print(arreglo[0,1])"
      ],
      "metadata": {
        "colab": {
          "base_uri": "https://localhost:8080/"
        },
        "id": "LDwi8kqORxmF",
        "outputId": "54a5c9ba-aaef-4142-d0d2-f8c06a342516"
      },
      "execution_count": 3,
      "outputs": [
        {
          "output_type": "stream",
          "name": "stdout",
          "text": [
            "2\n"
          ]
        }
      ]
    }
  ]
}