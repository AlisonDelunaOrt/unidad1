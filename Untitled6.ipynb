{
  "nbformat": 4,
  "nbformat_minor": 0,
  "metadata": {
    "colab": {
      "provenance": [],
      "authorship_tag": "ABX9TyP12m/2+A/pXTg2/8PEpTfk",
      "include_colab_link": true
    },
    "kernelspec": {
      "name": "python3",
      "display_name": "Python 3"
    },
    "language_info": {
      "name": "python"
    }
  },
  "cells": [
    {
      "cell_type": "markdown",
      "metadata": {
        "id": "view-in-github",
        "colab_type": "text"
      },
      "source": [
        "<a href=\"https://colab.research.google.com/github/AlisonDelunaOrt/unidad1/blob/main/Untitled6.ipynb\" target=\"_parent\"><img src=\"https://colab.research.google.com/assets/colab-badge.svg\" alt=\"Open In Colab\"/></a>"
      ]
    },
    {
      "cell_type": "markdown",
      "source": [
        "Dalia Alison De luna Ortiz -Practica 7 25/septiembre/2025\n",
        "----------------------------------------\n",
        "Slicing NumPy\n",
        "-----------------------\n",
        "Utilice STEP para determinar el paso del corte:\n",
        "EJEMPLO:([1,2,3,4,5,6,7]) - Devuelve todos los elementos desde el índice 1 al índice 5"
      ],
      "metadata": {
        "id": "oKqSDEDWGkel"
      }
    },
    {
      "cell_type": "code",
      "source": [
        "import numpy as np\n",
        "arreglo= np.array([1,2,3,4,5,6,7])\n",
        "print(arreglo[1:5:2])"
      ],
      "metadata": {
        "colab": {
          "base_uri": "https://localhost:8080/"
        },
        "id": "_1InRmREIKPE",
        "outputId": "e457f0ef-0c74-474f-9884-d5dd48f2f09b"
      },
      "execution_count": 1,
      "outputs": [
        {
          "output_type": "stream",
          "name": "stdout",
          "text": [
            "[2 4]\n"
          ]
        }
      ]
    },
    {
      "cell_type": "markdown",
      "source": [
        "EJEMPLO 2:([1,2,3,4,5,6,7])\n",
        "Devuelve los elementos de la matriz."
      ],
      "metadata": {
        "id": "YMoE6OMEIySk"
      }
    },
    {
      "cell_type": "code",
      "source": [
        "import numpy as np\n",
        "arreglo= np.array([1,2,3,4,5,6,7])\n",
        "print(arreglo[::2])\n"
      ],
      "metadata": {
        "colab": {
          "base_uri": "https://localhost:8080/"
        },
        "id": "Dlu7-HVEJA2z",
        "outputId": "7729f89e-f2af-4b58-ed04-ee41572cc738"
      },
      "execution_count": 2,
      "outputs": [
        {
          "output_type": "stream",
          "name": "stdout",
          "text": [
            "[1 3 5 7]\n"
          ]
        }
      ]
    },
    {
      "cell_type": "markdown",
      "source": [
        "Slice de matrices 2D\n",
        "-----------------------\n",
        "EJEMPLO 3:([[1,2,3,4,5],[6,7,8,9,10]])\n",
        "Del segundo elemento,corta del indice 1 al indice 4"
      ],
      "metadata": {
        "id": "vXa-sbdPJvbM"
      }
    },
    {
      "cell_type": "code",
      "source": [
        "import numpy as np\n",
        "arreglo= np.array([[1,2,3,4,5],[6,7,8,9,10]])\n",
        "print(arreglo[1, 1:4])"
      ],
      "metadata": {
        "colab": {
          "base_uri": "https://localhost:8080/"
        },
        "id": "IKcBBoShKNfE",
        "outputId": "aa07b38e-82f1-42b1-c372-dc5965f1e907"
      },
      "execution_count": 9,
      "outputs": [
        {
          "output_type": "stream",
          "name": "stdout",
          "text": [
            "[7 8 9]\n"
          ]
        }
      ]
    },
    {
      "cell_type": "markdown",
      "source": [
        "  EJEMPLO 4:([[1,2,3,4,5],[6,7,8,9,10]])\n",
        "  De ambos elementos, devuelve el indice 2\n",
        "  --------------------------------------\n",
        "  "
      ],
      "metadata": {
        "id": "sHRK0sc5NFGt"
      }
    },
    {
      "cell_type": "code",
      "source": [
        "import numpy as np\n",
        "arreglo= np.array([[1,2,3,4,5],[6,7,8,9,10]])\n",
        "print(arreglo[0:2, 2])\n"
      ],
      "metadata": {
        "colab": {
          "base_uri": "https://localhost:8080/"
        },
        "id": "pr-BGlqtNept",
        "outputId": "579ed25a-a88a-4435-eadc-aa0a1aa4b493"
      },
      "execution_count": 10,
      "outputs": [
        {
          "output_type": "stream",
          "name": "stdout",
          "text": [
            "[3 8]\n"
          ]
        }
      ]
    },
    {
      "cell_type": "markdown",
      "source": [
        "EJEMPLO 5:([[1,2,3,4,5],[6,7,8,9,10]])\n",
        "De ambos elementos corta el indice 1 al indice 4\n",
        "----------------"
      ],
      "metadata": {
        "id": "pcufpdWgOEkd"
      }
    },
    {
      "cell_type": "code",
      "source": [
        "import numpy as np\n",
        "arreglo= np.array([1,2,3,4,5],[6,7,8,9,10])\n",
        "print(arreglo[0:2, 1:4])"
      ],
      "metadata": {
        "colab": {
          "base_uri": "https://localhost:8080/"
        },
        "id": "-O7hAOUCOXX1",
        "outputId": "3ebf8d37-ac84-4be8-8518-df73160fd512"
      },
      "execution_count": 11,
      "outputs": [
        {
          "output_type": "stream",
          "name": "stdout",
          "text": [
            "[[2 3 4]\n",
            " [7 8 9]]\n"
          ]
        }
      ]
    },
    {
      "cell_type": "markdown",
      "source": [
        "EJERCICIO 1:autonomo\n",
        "Del siguiente arreglo, cual es el resultado\n",
        "([1,2,3,4,5,6,7])\n",
        "corta del primer elemento al sexto elemento con paso 2"
      ],
      "metadata": {
        "id": "Iz2OXOiEPMuN"
      }
    },
    {
      "cell_type": "code",
      "source": [
        "import numpy as np\n",
        "arreglo= np.array([1,2,3,4,5,6,7])\n",
        "print(arreglo[0:6:2])"
      ],
      "metadata": {
        "colab": {
          "base_uri": "https://localhost:8080/"
        },
        "id": "yt2G8vJ8QNb-",
        "outputId": "e934b6ae-3768-415a-e333-bb7826cc3587"
      },
      "execution_count": 17,
      "outputs": [
        {
          "output_type": "stream",
          "name": "stdout",
          "text": [
            "[1 3 5]\n"
          ]
        }
      ]
    }
  ]
}