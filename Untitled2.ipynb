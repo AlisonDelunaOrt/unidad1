{
  "nbformat": 4,
  "nbformat_minor": 0,
  "metadata": {
    "colab": {
      "provenance": [],
      "authorship_tag": "ABX9TyOB1CXVPYXju9d7rOlTbZJN",
      "include_colab_link": true
    },
    "kernelspec": {
      "name": "python3",
      "display_name": "Python 3"
    },
    "language_info": {
      "name": "python"
    }
  },
  "cells": [
    {
      "cell_type": "markdown",
      "metadata": {
        "id": "view-in-github",
        "colab_type": "text"
      },
      "source": [
        "<a href=\"https://colab.research.google.com/github/AlisonDelunaOrt/unidad1/blob/main/Untitled2.ipynb\" target=\"_parent\"><img src=\"https://colab.research.google.com/assets/colab-badge.svg\" alt=\"Open In Colab\"/></a>"
      ]
    },
    {
      "cell_type": "markdown",
      "source": [
        " Del las siguientes listas 1,2,3,4,5 y 6,7,8,9,10 ,Accede al elemento de la 2a fila, 5a columna"
      ],
      "metadata": {
        "id": "j8-8rn8GID_Z"
      }
    },
    {
      "cell_type": "code",
      "source": [
        "import numpy as np\n",
        "arreglo=np.array([[1,2,3,4,5],[6,7,8,9,10]])\n",
        "print(arreglo[1,4])"
      ],
      "metadata": {
        "colab": {
          "base_uri": "https://localhost:8080/"
        },
        "id": "AEF_fCk1IK7R",
        "outputId": "93ec98aa-b327-4ced-cabe-5b8774a39456"
      },
      "execution_count": 7,
      "outputs": [
        {
          "output_type": "stream",
          "name": "stdout",
          "text": [
            "10\n"
          ]
        }
      ]
    },
    {
      "cell_type": "markdown",
      "source": [
        "De las siguientes listas 1, 2, 3 -  4, 5, 6 - 7, 8, 9 y 10, 11, 12, Acceda al tercer elemento de la segunda matriz de la primera matriz"
      ],
      "metadata": {
        "id": "o91-64_5Ipb6"
      }
    },
    {
      "cell_type": "code",
      "source": [
        "import numpy as np\n",
        "arreglo=np.array([[[1,2,3],[4,5,6],[7,8,9],[10,11,12]]])\n",
        "print(arreglo[0,1,2])"
      ],
      "metadata": {
        "colab": {
          "base_uri": "https://localhost:8080/"
        },
        "id": "OMGeKUi_Kuoa",
        "outputId": "41ffd0ef-4a72-411d-cf34-da210865b74a"
      },
      "execution_count": 18,
      "outputs": [
        {
          "output_type": "stream",
          "name": "stdout",
          "text": [
            "6\n"
          ]
        }
      ]
    },
    {
      "cell_type": "code",
      "source": [
        "[]"
      ],
      "metadata": {
        "id": "Iml3HPSrJMX7"
      },
      "execution_count": null,
      "outputs": []
    }
  ]
}