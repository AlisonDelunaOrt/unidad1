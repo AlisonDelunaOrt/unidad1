{
  "nbformat": 4,
  "nbformat_minor": 0,
  "metadata": {
    "colab": {
      "provenance": [],
      "authorship_tag": "ABX9TyP2UU5kPBseXxUvGSpTlPEu",
      "include_colab_link": true
    },
    "kernelspec": {
      "name": "python3",
      "display_name": "Python 3"
    },
    "language_info": {
      "name": "python"
    }
  },
  "cells": [
    {
      "cell_type": "markdown",
      "metadata": {
        "id": "view-in-github",
        "colab_type": "text"
      },
      "source": [
        "<a href=\"https://colab.research.google.com/github/AlisonDelunaOrt/unidad1/blob/main/practica6.ipynb\" target=\"_parent\"><img src=\"https://colab.research.google.com/assets/colab-badge.svg\" alt=\"Open In Colab\"/></a>"
      ]
    },
    {
      "cell_type": "code",
      "execution_count": null,
      "metadata": {
        "id": "F710zGtkClCr"
      },
      "outputs": [],
      "source": []
    },
    {
      "cell_type": "markdown",
      "source": [
        "Dalia Alison De luna Ortiz - 24/septiembre/2025\n",
        "practica 6-Cortar arreglos NumPy\n",
        "-----------------------------------------------\n",
        "Slice en python tomar elementos de un indice determinado a otro determinado indice.Pasamos slice en lugar del indice de esta manera: [start:end]\n",
        "si no pasamos el inicio se considera 0.\n",
        "Si no pasamos al final,su longitud es considerada una matriz de una dimension.\n",
        "------------------------------------------\n",
        "EJEMPLO:([1,2,3,4,5,6,7])\n",
        "cortar los elementos del indice 1 al indice 5\n",
        "---------------------------\n"
      ],
      "metadata": {
        "id": "ipo5r6k7Cwgl"
      }
    },
    {
      "cell_type": "code",
      "source": [
        "import numpy as np\n",
        "\n",
        "arreglo= np.array([1,2,3,4,5,6,7])\n",
        "\n",
        "print(arreglo[1:5])"
      ],
      "metadata": {
        "colab": {
          "base_uri": "https://localhost:8080/"
        },
        "id": "MSUNZclmKaHE",
        "outputId": "4183c039-f5b2-40d8-fd8a-84884db6d92c"
      },
      "execution_count": 1,
      "outputs": [
        {
          "output_type": "stream",
          "name": "stdout",
          "text": [
            "[2 3 4 5]\n"
          ]
        }
      ]
    },
    {
      "cell_type": "markdown",
      "source": [
        "EJEMPLO 2:\n",
        "(1,2,3,4,5,6,7)\n",
        "cortar del indice 4 hasta el fina de la matriz.\n",
        "-----------------------------------------\n"
      ],
      "metadata": {
        "id": "NQ_mP8XALKAy"
      }
    },
    {
      "cell_type": "code",
      "source": [
        "import numpy as np\n",
        "arreglo=np.array([1,2,3,4,5,6,7])\n",
        "print(arreglo[4:])"
      ],
      "metadata": {
        "colab": {
          "base_uri": "https://localhost:8080/"
        },
        "id": "JRb48tiLLcxj",
        "outputId": "35977a55-6717-429c-b618-043e5b9317be"
      },
      "execution_count": 2,
      "outputs": [
        {
          "output_type": "stream",
          "name": "stdout",
          "text": [
            "[5 6 7]\n"
          ]
        }
      ]
    },
    {
      "cell_type": "markdown",
      "source": [
        "EJEMPLO 3:\n",
        "([1,2,3,4,5,6,7,])\n",
        "cortar elementos desde el principio hasta el indice 5"
      ],
      "metadata": {
        "id": "mjXA5f4_MIDL"
      }
    },
    {
      "cell_type": "code",
      "source": [
        "import numpy as np\n",
        "arreglo= np.array([1,2,3,4,5,6,7])\n",
        "print(arreglo[0:5])"
      ],
      "metadata": {
        "colab": {
          "base_uri": "https://localhost:8080/"
        },
        "id": "ZfqafWASMSL7",
        "outputId": "d8aadcb7-424f-4f73-dbd7-6eca595565a1"
      },
      "execution_count": 6,
      "outputs": [
        {
          "output_type": "stream",
          "name": "stdout",
          "text": [
            "[1 2 3 4 5]\n"
          ]
        }
      ]
    },
    {
      "cell_type": "markdown",
      "source": [
        "EJEMPLO 4:\n",
        "([1,2,3,4,5,6,7])\n",
        "corte negativo.Utilizamos el operador \"menos\" para hacer referencia a un indice desde el final.\n",
        "---------------------------\n",
        "Cortar de el indice 3 desde el final al indice 1 desde el final\n"
      ],
      "metadata": {
        "id": "0nIX1wIZM1y0"
      }
    },
    {
      "cell_type": "code",
      "source": [
        "import numpy as np\n",
        "arreglo= np.array([1,2,3,4,5,6,7])\n",
        "print(arreglo[-3:-1])"
      ],
      "metadata": {
        "colab": {
          "base_uri": "https://localhost:8080/"
        },
        "id": "oqaq6I7oNVc0",
        "outputId": "8f4eeda5-2db5-45b5-f224-263b54448fee"
      },
      "execution_count": 7,
      "outputs": [
        {
          "output_type": "stream",
          "name": "stdout",
          "text": [
            "[5 6]\n"
          ]
        }
      ]
    }
  ]
}