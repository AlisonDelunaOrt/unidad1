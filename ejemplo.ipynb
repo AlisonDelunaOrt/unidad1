{
  "nbformat": 4,
  "nbformat_minor": 0,
  "metadata": {
    "colab": {
      "provenance": [],
      "authorship_tag": "ABX9TyNyAcH7Wii7pwZ0mkyKc8hW",
      "include_colab_link": true
    },
    "kernelspec": {
      "name": "python3",
      "display_name": "Python 3"
    },
    "language_info": {
      "name": "python"
    }
  },
  "cells": [
    {
      "cell_type": "markdown",
      "metadata": {
        "id": "view-in-github",
        "colab_type": "text"
      },
      "source": [
        "<a href=\"https://colab.research.google.com/github/AlisonDelunaOrt/unidad1/blob/main/ejemplo.ipynb\" target=\"_parent\"><img src=\"https://colab.research.google.com/assets/colab-badge.svg\" alt=\"Open In Colab\"/></a>"
      ]
    },
    {
      "cell_type": "code",
      "execution_count": null,
      "metadata": {
        "id": "uhpxii8wwvFC"
      },
      "outputs": [],
      "source": []
    },
    {
      "cell_type": "markdown",
      "source": [
        "prueba de colab python"
      ],
      "metadata": {
        "id": "Tf5UI6EtxeSq"
      }
    },
    {
      "cell_type": "code",
      "source": [
        "print(\"hola mundo\")"
      ],
      "metadata": {
        "colab": {
          "base_uri": "https://localhost:8080/"
        },
        "id": "JyyalpH5xyFq",
        "outputId": "a4554ba7-ce97-4f2c-a817-4138328337f1"
      },
      "execution_count": 1,
      "outputs": [
        {
          "output_type": "stream",
          "name": "stdout",
          "text": [
            "hola mundo\n"
          ]
        }
      ]
    },
    {
      "cell_type": "markdown",
      "source": [
        "variables"
      ],
      "metadata": {
        "id": "JIJrrJvLyS14"
      }
    },
    {
      "cell_type": "code",
      "source": [
        "#variables en python\n",
        "nombre = \"Alison\"\n",
        "paterno = \"De luna\"\n",
        "materno = \"Ortiz\"\n",
        "edad = 16\n",
        "estatura = 1.57\n",
        "\n",
        "print(nombre,paterno,materno,edad,estatura)"
      ],
      "metadata": {
        "colab": {
          "base_uri": "https://localhost:8080/"
        },
        "id": "YopB4LlWyWRQ",
        "outputId": "e3b98e45-4194-49dd-d654-bf09e8bcd8f4"
      },
      "execution_count": 2,
      "outputs": [
        {
          "output_type": "stream",
          "name": "stdout",
          "text": [
            "Alison De luna Ortiz 16 1.57\n"
          ]
        }
      ]
    },
    {
      "cell_type": "markdown",
      "source": [
        "solicitar 2 numeros al usuario y sumarlos"
      ],
      "metadata": {
        "id": "7KUDQrX9zggp"
      }
    },
    {
      "cell_type": "code",
      "source": [
        "numero1 = int(input(\"insgresa el primer numero\"))\n",
        "numero2 = int(input(\"insgresa el segundo numero\"))\n",
        "suma = numero1+numero2\n",
        "print(\"suma = \", suma)"
      ],
      "metadata": {
        "colab": {
          "base_uri": "https://localhost:8080/"
        },
        "id": "n_qiHHpTzlKh",
        "outputId": "16b52ae3-5d18-469e-926d-d9ddc807d8fe"
      },
      "execution_count": 3,
      "outputs": [
        {
          "output_type": "stream",
          "name": "stdout",
          "text": [
            "insgresa el primer numero 30\n",
            "insgresa el segundo numero 84\n",
            "suma =  114\n"
          ]
        }
      ]
    }
  ]
}